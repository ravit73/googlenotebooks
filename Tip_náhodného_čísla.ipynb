{
  "nbformat": 4,
  "nbformat_minor": 0,
  "metadata": {
    "colab": {
      "name": "Tip náhodného čísla.ipynb",
      "provenance": [],
      "authorship_tag": "ABX9TyPK3C6KT0GbP6JZ2MIaSDfN",
      "include_colab_link": true
    },
    "kernelspec": {
      "name": "python3",
      "display_name": "Python 3"
    }
  },
  "cells": [
    {
      "cell_type": "markdown",
      "metadata": {
        "id": "view-in-github",
        "colab_type": "text"
      },
      "source": [
        "<a href=\"https://colab.research.google.com/github/ravit73/googlenotebooks/blob/alternate/Tip_n%C3%A1hodn%C3%A9ho_%C4%8D%C3%ADsla.ipynb\" target=\"_parent\"><img src=\"https://colab.research.google.com/assets/colab-badge.svg\" alt=\"Open In Colab\"/></a>"
      ]
    },
    {
      "cell_type": "markdown",
      "metadata": {
        "id": "JhadCmqq31Wn"
      },
      "source": [
        "# **SKRIPT PRO TIPOVÁNÍ NÁHODNÉHO ČÍSLA**"
      ]
    },
    {
      "cell_type": "code",
      "metadata": {
        "id": "eZ_b8bE83jmg",
        "outputId": "363501bb-7fdd-443c-eb89-5145e242c739",
        "colab": {
          "base_uri": "https://localhost:8080/"
        }
      },
      "source": [
        "import numpy as np\n",
        "\n",
        "random = int(1+(np.random.rand(1))*20)\n",
        "# print(random)\n",
        "\n",
        "radek = 0\n",
        "pocet = 0\n",
        "\n",
        "\n",
        "while random != radek:\n",
        "  radek = int(input(\"Tipni číslo 1-20? \"))\n",
        "  pocet = pocet + 1\n",
        "  if random > radek:\n",
        "    print(\"Zkus ještě jednou větší číslo\")\n",
        "  elif random < radek:\n",
        "    print(\"Zkus ještě jednou menší číslo\")   \n",
        "  else:\n",
        "    print(\"Trefa. Číslo je opravdu \",str(random))\n",
        "\n",
        "uspesnost = 1/pocet\n",
        "print(\"Díky za účast. Úspěšnost pokusů: \",str(uspesnost*100),\"%, to znamená \",str(pocet),\" pokusů\")  \n",
        "\n",
        "\n",
        "\n",
        "\n"
      ],
      "execution_count": 1,
      "outputs": [
        {
          "output_type": "stream",
          "text": [
            "Tipni číslo 1-20? 7\n",
            "Zkus ještě jednou menší číslo\n",
            "Tipni číslo 1-20? 5\n",
            "Zkus ještě jednou menší číslo\n",
            "Tipni číslo 1-20? 3\n",
            "Zkus ještě jednou menší číslo\n",
            "Tipni číslo 1-20? 2\n",
            "Trefa. Číslo je opravdu  2\n",
            "Díky za účast. Úspěšnost pokusů:  25.0 %, to znamená  4  pokusů\n"
          ],
          "name": "stdout"
        }
      ]
    },
    {
      "cell_type": "markdown",
      "metadata": {
        "id": "c14l0nps3vaz"
      },
      "source": [
        ""
      ]
    },
    {
      "cell_type": "code",
      "metadata": {
        "id": "3lsITWuiOSU6",
        "outputId": "09dc22a3-f205-4cd2-b459-1a14f41fc9f3",
        "colab": {
          "base_uri": "https://localhost:8080/"
        }
      },
      "source": [
        "import random as r\n",
        "import pandas as pd\n",
        "\n",
        "def kostka(n):\n",
        "  r1 = r.randrange(1,n+1)\n",
        "  r2 = r.randrange(1,n+1)\n",
        "  r3 = r.randrange(1,n+1)\n",
        "  hod = [r1,r2,r3]\n",
        "  return hod\n",
        "\n",
        "ucastnici = [\"Radek\",\"Filip\",\"Lukas\"]\n",
        "pocetkol = range(10)\n",
        "df = pd.DataFrame(0,index=pocetkol, columns=ucastnici)\n",
        "s=0\n",
        "\n",
        "for i in pocetkol:\n",
        "  for u in ucastnici:\n",
        "    result = kostka(6)\n",
        "    print(\"V \",str(i+1),\". kole hodil \",str(u),str(result))\n",
        "    s = sum(result)\n",
        "    print(s)\n",
        "    df.loc[i,u]=s\n",
        "     \n",
        "\n",
        "print(\"*************************\")\n",
        "print(df)\n",
        "\n",
        "sdf = df.agg(\"sum\")\n",
        "           \n",
        "                    \n",
        "\n",
        "print(\"*************************\")\n",
        "print(\"Celkove body:\")\n",
        "print(sdf)  \n",
        "sdf.shape\n",
        "\n"
      ],
      "execution_count": 60,
      "outputs": [
        {
          "output_type": "stream",
          "text": [
            "V  1 . kole hodil  Radek [6, 6, 1]\n",
            "13\n",
            "V  1 . kole hodil  Filip [5, 1, 4]\n",
            "10\n",
            "V  1 . kole hodil  Lukas [4, 5, 1]\n",
            "10\n",
            "V  2 . kole hodil  Radek [6, 1, 1]\n",
            "8\n",
            "V  2 . kole hodil  Filip [4, 4, 1]\n",
            "9\n",
            "V  2 . kole hodil  Lukas [2, 6, 6]\n",
            "14\n",
            "V  3 . kole hodil  Radek [6, 3, 4]\n",
            "13\n",
            "V  3 . kole hodil  Filip [3, 2, 1]\n",
            "6\n",
            "V  3 . kole hodil  Lukas [1, 2, 1]\n",
            "4\n",
            "V  4 . kole hodil  Radek [5, 5, 1]\n",
            "11\n",
            "V  4 . kole hodil  Filip [3, 3, 2]\n",
            "8\n",
            "V  4 . kole hodil  Lukas [1, 2, 5]\n",
            "8\n",
            "V  5 . kole hodil  Radek [1, 6, 6]\n",
            "13\n",
            "V  5 . kole hodil  Filip [5, 4, 4]\n",
            "13\n",
            "V  5 . kole hodil  Lukas [2, 6, 4]\n",
            "12\n",
            "V  6 . kole hodil  Radek [2, 3, 4]\n",
            "9\n",
            "V  6 . kole hodil  Filip [2, 3, 4]\n",
            "9\n",
            "V  6 . kole hodil  Lukas [4, 6, 2]\n",
            "12\n",
            "V  7 . kole hodil  Radek [2, 1, 1]\n",
            "4\n",
            "V  7 . kole hodil  Filip [5, 3, 3]\n",
            "11\n",
            "V  7 . kole hodil  Lukas [5, 2, 5]\n",
            "12\n",
            "V  8 . kole hodil  Radek [2, 3, 1]\n",
            "6\n",
            "V  8 . kole hodil  Filip [3, 3, 2]\n",
            "8\n",
            "V  8 . kole hodil  Lukas [1, 5, 3]\n",
            "9\n",
            "V  9 . kole hodil  Radek [5, 6, 4]\n",
            "15\n",
            "V  9 . kole hodil  Filip [6, 6, 5]\n",
            "17\n",
            "V  9 . kole hodil  Lukas [5, 1, 1]\n",
            "7\n",
            "V  10 . kole hodil  Radek [1, 1, 1]\n",
            "3\n",
            "V  10 . kole hodil  Filip [5, 6, 4]\n",
            "15\n",
            "V  10 . kole hodil  Lukas [4, 5, 5]\n",
            "14\n",
            "*************************\n",
            "   Radek  Filip  Lukas\n",
            "0     13     10     10\n",
            "1      8      9     14\n",
            "2     13      6      4\n",
            "3     11      8      8\n",
            "4     13     13     12\n",
            "5      9      9     12\n",
            "6      4     11     12\n",
            "7      6      8      9\n",
            "8     15     17      7\n",
            "9      3     15     14\n",
            "*************************\n",
            "Celkove body:\n",
            "Radek     95\n",
            "Filip    106\n",
            "Lukas    102\n",
            "dtype: int64\n"
          ],
          "name": "stdout"
        },
        {
          "output_type": "execute_result",
          "data": {
            "text/plain": [
              "(3,)"
            ]
          },
          "metadata": {
            "tags": []
          },
          "execution_count": 60
        }
      ]
    }
  ]
}
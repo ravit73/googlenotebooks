{
  "nbformat": 4,
  "nbformat_minor": 0,
  "metadata": {
    "colab": {
      "name": "Tip náhodného čísla.ipynb",
      "provenance": [],
      "toc_visible": true,
      "authorship_tag": "ABX9TyNRGDCkAVRgKO7utmFzCwKl",
      "include_colab_link": true
    },
    "kernelspec": {
      "name": "python3",
      "display_name": "Python 3"
    }
  },
  "cells": [
    {
      "cell_type": "markdown",
      "metadata": {
        "id": "view-in-github",
        "colab_type": "text"
      },
      "source": [
        "<a href=\"https://colab.research.google.com/github/ravit73/googlenotebooks/blob/alternate/Tip_n%C3%A1hodn%C3%A9ho_%C4%8D%C3%ADsla.ipynb\" target=\"_parent\"><img src=\"https://colab.research.google.com/assets/colab-badge.svg\" alt=\"Open In Colab\"/></a>"
      ]
    },
    {
      "cell_type": "markdown",
      "metadata": {
        "id": "JhadCmqq31Wn"
      },
      "source": [
        "# **SKRIPT PRO TIPOVÁNÍ NÁHODNÉHO ČÍSLA**"
      ]
    },
    {
      "cell_type": "code",
      "metadata": {
        "id": "eZ_b8bE83jmg",
        "outputId": "208ae24f-99d7-477f-9125-4e73d130d46f",
        "colab": {
          "base_uri": "https://localhost:8080/"
        }
      },
      "source": [
        "import numpy as np\n",
        "\n",
        "random = int(1+(np.random.rand(1))*20)\n",
        "# print(random)\n",
        "\n",
        "radek = 0\n",
        "pocet = 0\n",
        "\n",
        "\n",
        "while random != radek:\n",
        "  radek = int(input(\"Tipni číslo 1-20? \"))\n",
        "  pocet = pocet + 1\n",
        "  if random > radek:\n",
        "    print(\"Zkus ještě jednou větší číslo\")\n",
        "  elif random < radek:\n",
        "    print(\"Zkus ještě jednou menší číslo\")   \n",
        "  else:\n",
        "    print(\"Trefa. Číslo je opravdu \",str(random))\n",
        "\n",
        "uspesnost = 1/pocet\n",
        "print(\"Díky za účast. Úspěšnost pokusů: \",str(uspesnost*100),\"%, to znamená \",str(pocet),\" pokusů\")  \n",
        "\n",
        "\n",
        "\n",
        "\n"
      ],
      "execution_count": null,
      "outputs": [
        {
          "output_type": "stream",
          "text": [
            "Tipni číslo 1-20? 7\n",
            "Zkus ještě jednou menší číslo\n",
            "Tipni číslo 1-20? 4\n",
            "Trefa. Číslo je opravdu  4\n",
            "Díky za účast. Úspěšnost pokusů:  50.0 %, to znamená  2  pokusů\n"
          ],
          "name": "stdout"
        }
      ]
    },
    {
      "cell_type": "markdown",
      "metadata": {
        "id": "c14l0nps3vaz"
      },
      "source": [
        ""
      ]
    },
    {
      "cell_type": "code",
      "metadata": {
        "id": "3lsITWuiOSU6",
        "outputId": "f10b5373-5605-4093-b999-0e84e1c6bec7",
        "colab": {
          "base_uri": "https://localhost:8080/"
        }
      },
      "source": [
        "import random as r\n",
        "import pandas as pd\n",
        "\n",
        "def kostka(n):\n",
        "  r1 = r.randrange(1,n+1)\n",
        "  r2 = r.randrange(1,n+1)\n",
        "  r3 = r.randrange(1,n+1)\n",
        "  hod = [r1,r2,r3]\n",
        "  return hod\n",
        "\n",
        "radek = 0\n",
        "\n",
        "#for i in range(10):\n",
        " # hod(i) = kostka(100)\n",
        "\n",
        "\n",
        "b = kostka(100)\n",
        "print(b)\n",
        "sum(b)"
      ],
      "execution_count": 75,
      "outputs": [
        {
          "output_type": "stream",
          "text": [
            "[31, 54, 12]\n"
          ],
          "name": "stdout"
        },
        {
          "output_type": "execute_result",
          "data": {
            "text/plain": [
              "97"
            ]
          },
          "metadata": {
            "tags": []
          },
          "execution_count": 75
        }
      ]
    }
  ]
}
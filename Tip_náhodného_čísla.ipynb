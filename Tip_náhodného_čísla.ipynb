{
  "nbformat": 4,
  "nbformat_minor": 0,
  "metadata": {
    "colab": {
      "name": "Tip náhodného čísla.ipynb",
      "provenance": [],
      "authorship_tag": "ABX9TyNwx7VkvkbmTOCnBrujX+27",
      "include_colab_link": true
    },
    "kernelspec": {
      "name": "python3",
      "display_name": "Python 3"
    }
  },
  "cells": [
    {
      "cell_type": "markdown",
      "metadata": {
        "id": "view-in-github",
        "colab_type": "text"
      },
      "source": [
        "<a href=\"https://colab.research.google.com/github/ravit73/googlenotebooks/blob/alternate/Tip_n%C3%A1hodn%C3%A9ho_%C4%8D%C3%ADsla.ipynb\" target=\"_parent\"><img src=\"https://colab.research.google.com/assets/colab-badge.svg\" alt=\"Open In Colab\"/></a>"
      ]
    },
    {
      "cell_type": "markdown",
      "metadata": {
        "id": "JhadCmqq31Wn"
      },
      "source": [
        "# **SKRIPT PRO TIPOVÁNÍ NÁHODNÉHO ČÍSLA**"
      ]
    },
    {
      "cell_type": "code",
      "metadata": {
        "id": "eZ_b8bE83jmg",
        "outputId": "9498020c-6cfc-44b0-f936-346c6b322d86",
        "colab": {
          "base_uri": "https://localhost:8080/"
        }
      },
      "source": [
        "import numpy as np\n",
        "\n",
        "random = int(1+(np.random.rand(1))*20)\n",
        "# print(random)\n",
        "\n",
        "radek = 0\n",
        "pocet = 0\n",
        "\n",
        "\n",
        "while random != radek:\n",
        "  radek = int(input(\"Tipni číslo 1-20? \"))\n",
        "  pocet = pocet + 1\n",
        "  if random > radek:\n",
        "    print(\"Zkus ještě jednou větší číslo\")\n",
        "  elif random < radek:\n",
        "    print(\"Zkus ještě jednou menší číslo\")   \n",
        "  else:\n",
        "    print(\"Trefa. Číslo je opravdu \",str(random))\n",
        "\n",
        "uspesnost = 1/pocet\n",
        "print(\"Díky za účast. Úspěšnost pokusů: \",str(uspesnost*100),\"%, to znamená \",str(pocet),\" pokusů\")  \n",
        "\n",
        "\n",
        "\n",
        "\n"
      ],
      "execution_count": 20,
      "outputs": [
        {
          "output_type": "stream",
          "text": [
            "Tipni číslo 1-20? 13\n",
            "Zkus ještě jednou větší číslo\n",
            "Tipni číslo 1-20? 17\n",
            "Zkus ještě jednou menší číslo\n",
            "Tipni číslo 1-20? 15\n",
            "Zkus ještě jednou větší číslo\n",
            "Tipni číslo 1-20? 16\n",
            "Trefa. Číslo je opravdu  16\n",
            "Díky za účast. Úspěšnost pokusů:  25.0 %, to znamená  4  pokusů\n"
          ],
          "name": "stdout"
        }
      ]
    },
    {
      "cell_type": "markdown",
      "metadata": {
        "id": "c14l0nps3vaz"
      },
      "source": [
        ""
      ]
    },
    {
      "cell_type": "code",
      "metadata": {
        "id": "3lsITWuiOSU6",
        "outputId": "64c7e36b-a52b-44eb-fc72-efd519cf3fe6",
        "colab": {
          "base_uri": "https://localhost:8080/"
        }
      },
      "source": [
        "import random as r\n",
        "import pandas as pd\n",
        "import time\n",
        "\n",
        "def kostka(n):\n",
        "  r1 = r.randrange(1,n+1)\n",
        "  r2 = r.randrange(1,n+1)\n",
        "  r3 = r.randrange(1,n+1)\n",
        "  hod = [r1,r2,r3]\n",
        "  return hod\n",
        "\n",
        "ucastnici = [\"Radek\",\"Filip\",\"Lukas\",\"Lenka\"]\n",
        "pocetkol = range(3)\n",
        "df = pd.DataFrame(0,index=pocetkol, columns=ucastnici)\n",
        "s=0\n",
        "\n",
        "for i in pocetkol:\n",
        "  for u in ucastnici:\n",
        "    result = kostka(6)\n",
        "    print(\"V \",str(i+1),\". kole hodil \",str(u),str(result))\n",
        "    s = sum(result)\n",
        "    print(s)\n",
        "    df.loc[i,u]=s\n",
        "     \n",
        "\n",
        "  print(\"*************************\")\n",
        "  print(df)\n",
        "  sdf = df.agg(\"sum\")\n",
        "  print(\"*************************\")\n",
        "  print(\"Celkove body:\")\n",
        "  print(sdf)\n",
        "  print(\"*************************\")\n",
        "  time.sleep(7)\n",
        "\n",
        "sdf = df.agg(\"sum\")\n",
        "           \n",
        "                    \n",
        "\n",
        "print(\"*************************\")\n",
        "print(\"Celkove body:\")\n",
        "print(sdf)  \n",
        "\n",
        "\n"
      ],
      "execution_count": 29,
      "outputs": [
        {
          "output_type": "stream",
          "text": [
            "V  1 . kole hodil  Radek [2, 2, 1]\n",
            "5\n",
            "V  1 . kole hodil  Filip [4, 3, 6]\n",
            "13\n",
            "V  1 . kole hodil  Lukas [3, 3, 4]\n",
            "10\n",
            "V  1 . kole hodil  Lenka [6, 5, 1]\n",
            "12\n",
            "*************************\n",
            "   Radek  Filip  Lukas  Lenka\n",
            "0      5     13     10     12\n",
            "1      0      0      0      0\n",
            "2      0      0      0      0\n",
            "*************************\n",
            "Celkove body:\n",
            "Radek     5\n",
            "Filip    13\n",
            "Lukas    10\n",
            "Lenka    12\n",
            "dtype: int64\n",
            "*************************\n",
            "V  2 . kole hodil  Radek [5, 3, 2]\n",
            "10\n",
            "V  2 . kole hodil  Filip [6, 5, 4]\n",
            "15\n",
            "V  2 . kole hodil  Lukas [4, 2, 3]\n",
            "9\n",
            "V  2 . kole hodil  Lenka [1, 6, 3]\n",
            "10\n",
            "*************************\n",
            "   Radek  Filip  Lukas  Lenka\n",
            "0      5     13     10     12\n",
            "1     10     15      9     10\n",
            "2      0      0      0      0\n",
            "*************************\n",
            "Celkove body:\n",
            "Radek    15\n",
            "Filip    28\n",
            "Lukas    19\n",
            "Lenka    22\n",
            "dtype: int64\n",
            "*************************\n",
            "V  3 . kole hodil  Radek [5, 2, 1]\n",
            "8\n",
            "V  3 . kole hodil  Filip [2, 1, 5]\n",
            "8\n",
            "V  3 . kole hodil  Lukas [4, 6, 6]\n",
            "16\n",
            "V  3 . kole hodil  Lenka [4, 1, 2]\n",
            "7\n",
            "*************************\n",
            "   Radek  Filip  Lukas  Lenka\n",
            "0      5     13     10     12\n",
            "1     10     15      9     10\n",
            "2      8      8     16      7\n",
            "*************************\n",
            "Celkove body:\n",
            "Radek    23\n",
            "Filip    36\n",
            "Lukas    35\n",
            "Lenka    29\n",
            "dtype: int64\n",
            "*************************\n",
            "*************************\n",
            "Celkove body:\n",
            "Radek    23\n",
            "Filip    36\n",
            "Lukas    35\n",
            "Lenka    29\n",
            "dtype: int64\n"
          ],
          "name": "stdout"
        }
      ]
    }
  ]
}
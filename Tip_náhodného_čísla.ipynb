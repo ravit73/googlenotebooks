{
  "nbformat": 4,
  "nbformat_minor": 0,
  "metadata": {
    "colab": {
      "name": "Tip náhodného čísla.ipynb",
      "provenance": [],
      "toc_visible": true,
      "authorship_tag": "ABX9TyMd+WKzxeKlBPUH+f93feP6",
      "include_colab_link": true
    },
    "kernelspec": {
      "name": "python3",
      "display_name": "Python 3"
    }
  },
  "cells": [
    {
      "cell_type": "markdown",
      "metadata": {
        "id": "view-in-github",
        "colab_type": "text"
      },
      "source": [
        "<a href=\"https://colab.research.google.com/github/ravit73/googlenotebooks/blob/alternate/Tip_n%C3%A1hodn%C3%A9ho_%C4%8D%C3%ADsla.ipynb\" target=\"_parent\"><img src=\"https://colab.research.google.com/assets/colab-badge.svg\" alt=\"Open In Colab\"/></a>"
      ]
    },
    {
      "cell_type": "markdown",
      "metadata": {
        "id": "JhadCmqq31Wn"
      },
      "source": [
        "# **SKRIPT PRO TIPOVÁNÍ NÁHODNÉHO ČÍSLA**"
      ]
    },
    {
      "cell_type": "code",
      "metadata": {
        "id": "eZ_b8bE83jmg",
        "outputId": "208ae24f-99d7-477f-9125-4e73d130d46f",
        "colab": {
          "base_uri": "https://localhost:8080/"
        }
      },
      "source": [
        "import numpy as np\n",
        "\n",
        "random = int(1+(np.random.rand(1))*20)\n",
        "# print(random)\n",
        "\n",
        "radek = 0\n",
        "pocet = 0\n",
        "\n",
        "\n",
        "while random != radek:\n",
        "  radek = int(input(\"Tipni číslo 1-20? \"))\n",
        "  pocet = pocet + 1\n",
        "  if random > radek:\n",
        "    print(\"Zkus ještě jednou větší číslo\")\n",
        "  elif random < radek:\n",
        "    print(\"Zkus ještě jednou menší číslo\")   \n",
        "  else:\n",
        "    print(\"Trefa. Číslo je opravdu \",str(random))\n",
        "\n",
        "uspesnost = 1/pocet\n",
        "print(\"Díky za účast. Úspěšnost pokusů: \",str(uspesnost*100),\"%, to znamená \",str(pocet),\" pokusů\")  \n",
        "\n",
        "\n",
        "\n",
        "\n"
      ],
      "execution_count": null,
      "outputs": [
        {
          "output_type": "stream",
          "text": [
            "Tipni číslo 1-20? 7\n",
            "Zkus ještě jednou menší číslo\n",
            "Tipni číslo 1-20? 4\n",
            "Trefa. Číslo je opravdu  4\n",
            "Díky za účast. Úspěšnost pokusů:  50.0 %, to znamená  2  pokusů\n"
          ],
          "name": "stdout"
        }
      ]
    },
    {
      "cell_type": "markdown",
      "metadata": {
        "id": "c14l0nps3vaz"
      },
      "source": [
        ""
      ]
    },
    {
      "cell_type": "code",
      "metadata": {
        "id": "3lsITWuiOSU6",
        "outputId": "efcb382b-a7c4-4a74-c2bf-36070ac5b603",
        "colab": {
          "base_uri": "https://localhost:8080/",
          "height": 195
        }
      },
      "source": [
        "import random as r\n",
        "\n",
        "rr = r.random(100)"
      ],
      "execution_count": 1,
      "outputs": [
        {
          "output_type": "error",
          "ename": "TypeError",
          "evalue": "ignored",
          "traceback": [
            "\u001b[0;31m---------------------------------------------------------------------------\u001b[0m",
            "\u001b[0;31mTypeError\u001b[0m                                 Traceback (most recent call last)",
            "\u001b[0;32m<ipython-input-1-4477286f9314>\u001b[0m in \u001b[0;36m<module>\u001b[0;34m()\u001b[0m\n\u001b[1;32m      1\u001b[0m \u001b[0;32mimport\u001b[0m \u001b[0mrandom\u001b[0m \u001b[0;32mas\u001b[0m \u001b[0mr\u001b[0m\u001b[0;34m\u001b[0m\u001b[0;34m\u001b[0m\u001b[0m\n\u001b[1;32m      2\u001b[0m \u001b[0;34m\u001b[0m\u001b[0m\n\u001b[0;32m----> 3\u001b[0;31m \u001b[0mrr\u001b[0m \u001b[0;34m=\u001b[0m \u001b[0mr\u001b[0m\u001b[0;34m.\u001b[0m\u001b[0mrandom\u001b[0m\u001b[0;34m(\u001b[0m\u001b[0;36m100\u001b[0m\u001b[0;34m)\u001b[0m\u001b[0;34m\u001b[0m\u001b[0;34m\u001b[0m\u001b[0m\n\u001b[0m",
            "\u001b[0;31mTypeError\u001b[0m: random() takes no arguments (1 given)"
          ]
        }
      ]
    }
  ]
}
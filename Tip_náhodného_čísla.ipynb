{
  "nbformat": 4,
  "nbformat_minor": 0,
  "metadata": {
    "colab": {
      "name": "Tip náhodného čísla.ipynb",
      "provenance": [],
      "toc_visible": true,
      "authorship_tag": "ABX9TyNwb5ncGicg3hyZLXvKQEGZ",
      "include_colab_link": true
    },
    "kernelspec": {
      "name": "python3",
      "display_name": "Python 3"
    }
  },
  "cells": [
    {
      "cell_type": "markdown",
      "metadata": {
        "id": "view-in-github",
        "colab_type": "text"
      },
      "source": [
        "<a href=\"https://colab.research.google.com/github/ravit73/googlenotebooks/blob/alternate/Tip_n%C3%A1hodn%C3%A9ho_%C4%8D%C3%ADsla.ipynb\" target=\"_parent\"><img src=\"https://colab.research.google.com/assets/colab-badge.svg\" alt=\"Open In Colab\"/></a>"
      ]
    },
    {
      "cell_type": "markdown",
      "metadata": {
        "id": "JhadCmqq31Wn"
      },
      "source": [
        "# **SKRIPT PRO TIPOVÁNÍ NÁHODNÉHO ČÍSLA**"
      ]
    },
    {
      "cell_type": "code",
      "metadata": {
        "id": "eZ_b8bE83jmg",
        "outputId": "208ae24f-99d7-477f-9125-4e73d130d46f",
        "colab": {
          "base_uri": "https://localhost:8080/"
        }
      },
      "source": [
        "import numpy as np\n",
        "\n",
        "random = int(1+(np.random.rand(1))*20)\n",
        "# print(random)\n",
        "\n",
        "radek = 0\n",
        "pocet = 0\n",
        "\n",
        "\n",
        "while random != radek:\n",
        "  radek = int(input(\"Tipni číslo 1-20? \"))\n",
        "  pocet = pocet + 1\n",
        "  if random > radek:\n",
        "    print(\"Zkus ještě jednou větší číslo\")\n",
        "  elif random < radek:\n",
        "    print(\"Zkus ještě jednou menší číslo\")   \n",
        "  else:\n",
        "    print(\"Trefa. Číslo je opravdu \",str(random))\n",
        "\n",
        "uspesnost = 1/pocet\n",
        "print(\"Díky za účast. Úspěšnost pokusů: \",str(uspesnost*100),\"%, to znamená \",str(pocet),\" pokusů\")  \n",
        "\n",
        "\n",
        "\n",
        "\n"
      ],
      "execution_count": null,
      "outputs": [
        {
          "output_type": "stream",
          "text": [
            "Tipni číslo 1-20? 7\n",
            "Zkus ještě jednou menší číslo\n",
            "Tipni číslo 1-20? 4\n",
            "Trefa. Číslo je opravdu  4\n",
            "Díky za účast. Úspěšnost pokusů:  50.0 %, to znamená  2  pokusů\n"
          ],
          "name": "stdout"
        }
      ]
    },
    {
      "cell_type": "markdown",
      "metadata": {
        "id": "c14l0nps3vaz"
      },
      "source": [
        ""
      ]
    },
    {
      "cell_type": "code",
      "metadata": {
        "id": "3lsITWuiOSU6",
        "outputId": "a1c8ba33-2262-4262-c185-0ccb935789a1",
        "colab": {
          "base_uri": "https://localhost:8080/",
          "height": 128
        }
      },
      "source": [
        "import random as r\n",
        "import pandas as pd\n",
        "\n",
        "def kostka(n):\n",
        "  r1 = r.randrange(1,n+1)\n",
        "  r2 = r.randrange(1,n+1)\n",
        "  r3 = r.randrange(1,n+1)\n",
        "  hod = [r1,r2,r3]\n",
        "  return hod\n",
        "\n",
        "ucastnici = [\"Radek\",\"Lenka\"]\n",
        "pocetkol = range(3)\n",
        "df = pd.DataFrame(0,index=pocetkol, columns=ucastnici)\n",
        "sada = {}\n",
        "\n",
        "\n",
        "for i in pocetkol:\n",
        " for u in ucastnici:\n",
        "   result = kostka(7)\n",
        "   print(\"V \",str(i+1),\". kole hodil \",str(u),str(result))\n",
        "   s = sum(result)\n",
        "   print(s)\n",
        "   list = [u,s]\n",
        "  sada = sada.add(list)\n",
        " \n",
        "\n",
        "print(df)\n",
        "print(sada)\n",
        "\n",
        "   \n"
      ],
      "execution_count": 158,
      "outputs": [
        {
          "output_type": "error",
          "ename": "IndentationError",
          "evalue": "ignored",
          "traceback": [
            "\u001b[0;36m  File \u001b[0;32m\"<ipython-input-158-ea56becf00b4>\"\u001b[0;36m, line \u001b[0;32m24\u001b[0m\n\u001b[0;31m    sada = sada.add(list)\u001b[0m\n\u001b[0m                         ^\u001b[0m\n\u001b[0;31mIndentationError\u001b[0m\u001b[0;31m:\u001b[0m unindent does not match any outer indentation level\n"
          ]
        }
      ]
    }
  ]
}